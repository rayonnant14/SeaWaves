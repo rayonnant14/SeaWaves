{
 "cells": [
  {
   "cell_type": "markdown",
   "id": "165c8c14-363b-4f35-a581-f8e184e9b0e9",
   "metadata": {},
   "source": [
    "Наша цель – востановить зависимость $ f: X \\rightarrow Y $.\n",
    "Востанавливать её будем по набдюдениям, приближая набором деревьев решений."
   ]
  },
  {
   "cell_type": "code",
   "execution_count": 1,
   "id": "311fbce5-721c-4309-82ea-368726c9f8d0",
   "metadata": {},
   "outputs": [
    {
     "name": "stderr",
     "output_type": "stream",
     "text": [
      "/opt/homebrew/Caskroom/miniforge/base/lib/python3.9/site-packages/xgboost/compat.py:36: FutureWarning: pandas.Int64Index is deprecated and will be removed from pandas in a future version. Use pandas.Index with the appropriate dtype instead.\n",
      "  from pandas import MultiIndex, Int64Index\n"
     ]
    }
   ],
   "source": [
    "import sys\n",
    "import numpy as np\n",
    "import xgboost as xgb\n",
    "# !{sys.executable} -m pip  install sklearn-evaluation\n",
    "import matplotlib.pyplot as plt"
   ]
  },
  {
   "cell_type": "code",
   "execution_count": 2,
   "id": "b47c1409",
   "metadata": {},
   "outputs": [],
   "source": [
    "import warnings\n",
    "warnings.filterwarnings('ignore')"
   ]
  },
  {
   "cell_type": "code",
   "execution_count": 3,
   "id": "7d5a3f35-be48-4a56-9d6d-598b253e0b44",
   "metadata": {},
   "outputs": [
    {
     "name": "stdout",
     "output_type": "stream",
     "text": [
      "/Users/polina/Documents/SeaWaves\r\n"
     ]
    }
   ],
   "source": [
    "!pwd"
   ]
  },
  {
   "cell_type": "markdown",
   "id": "3da0dd9c-68d7-4a7f-9864-f32a3bf8ccd4",
   "metadata": {},
   "source": [
    "# Считываем $X$ #"
   ]
  },
  {
   "cell_type": "markdown",
   "id": "a83a7b4f-2f4c-416e-9e3e-664d5f4989e7",
   "metadata": {},
   "source": [
    "## Готовим имена признаков ##"
   ]
  },
  {
   "cell_type": "markdown",
   "id": "e50e0e2c-435c-4960-bb0d-eff442580b00",
   "metadata": {},
   "source": [
    "1) sk_le [dB/Hz] наклон слева, коэффициент при аппроксимации полином первой степени методом наименьших квадратов участка линии на Рис.1 в диапазоне [-1.75; -0.75] Гц, должен быть положительным.\n",
    "2) sk_ri [dB/Hz] наклон справа, -\"- в диапазоне [0.75; 1.75] Гц, -\"- отрицательным\n",
    "3) centr1 [Hz] средневзвешенное значение частоты\n",
    "4) centr2 [Hz] среднемедианное значение частоты\n",
    "5) lvl [dB] уровень сигнала\n",
    "6) sk_le2[dB/Hz] - второй наклон слева в диапазоне [-3.2; -1.45] Гц\n",
    "7) sk_ri2[dB/Hz] - второй наклон справа в диапазоне [1.45; 3.2;] Гц\n",
    "8) lv_brag_le [dB] - уровень сигнала слева в диапазоне 1Гц вокруг частоты Брегга -2±0.5Гц \n",
    "9) lv_brag_ri[dB]- уровень сигнала справа в диапазоне +2±0.5Гц"
   ]
  },
  {
   "cell_type": "code",
   "execution_count": 4,
   "id": "5e0e008b-717f-4230-b40f-391c61818bae",
   "metadata": {},
   "outputs": [],
   "source": [
    "times = [0.3355, 0.671, 1.07, 1.342, 1.678, 2.01, 2.35, 2.68]\n",
    "# angles = list(range(-90, 100, 10))\n",
    "angles = list(range(-90, 100, 30))\n",
    "features = ['sk_le', 'sk_ri', 'centr1', 'centr2', 'lvl', 'sk_le2', 'sk_ri2', 'lv_brag_le', 'lv_brag_ri'] \n",
    "all_features = [] \n",
    "for feature in features:\n",
    "    for angle in angles:\n",
    "        for time in times:\n",
    "            all_features.append(f'{feature} {angle} {time}')"
   ]
  },
  {
   "cell_type": "markdown",
   "id": "3007680d-6f04-40fd-a95e-a9afdcb18b93",
   "metadata": {},
   "source": [
    "## Пробегаемся по всем дням и всем файлам внутри дня и формируем список словарей list_dict ##"
   ]
  },
  {
   "cell_type": "code",
   "execution_count": 5,
   "id": "c36ce97a-43ac-47c3-9d84-13b237f86e21",
   "metadata": {},
   "outputs": [
    {
     "name": "stdout",
     "output_type": "stream",
     "text": [
      "01_00_half1.dat 04_00_half1.dat 10_00_half2.dat 19_00_half1.dat 22_00_half1.dat\r\n",
      "01_00_half2.dat 04_00_half2.dat 12_00_half2.dat 19_00_half2.dat 22_00_half2.dat\r\n",
      "02_00_half1.dat 05_00_half1.dat 14_30_half1.dat 20_05_half1.dat 23_00_half1.dat\r\n",
      "02_00_half2.dat 05_00_half2.dat 14_30_half2.dat 20_05_half2.dat 23_00_half2.dat\r\n",
      "03_00_half1.dat 06_00_half1.dat 17_00_half1.dat 21_05_half1.dat 23_59_half1.dat\r\n",
      "03_00_half2.dat 06_00_half2.dat 17_00_half2.dat 21_05_half2.dat 23_59_half2.dat\r\n"
     ]
    }
   ],
   "source": [
    "!ls /Users/polina/Downloads/2720Hz/features_dat/31"
   ]
  },
  {
   "cell_type": "code",
   "execution_count": 6,
   "id": "e9eea854-34ce-40ab-8e3c-cb4090d5b688",
   "metadata": {},
   "outputs": [],
   "source": [
    "from datetime import datetime, timezone, timedelta"
   ]
  },
  {
   "cell_type": "code",
   "execution_count": 7,
   "id": "04ea7511-6436-4313-b41c-a5adee32d6c0",
   "metadata": {},
   "outputs": [
    {
     "data": {
      "text/plain": [
       "['20', '21', '22', '23', '24', '25', '26', '27', '28', '29', '30', '31']"
      ]
     },
     "execution_count": 7,
     "metadata": {},
     "output_type": "execute_result"
    }
   ],
   "source": [
    "days = !ls /Users/polina/Downloads/2720Hz/features_dat\n",
    "# days = !ls /home/acoustic/ddrazumov/2720Hz/features_dat\n",
    "days"
   ]
  },
  {
   "cell_type": "code",
   "execution_count": 8,
   "id": "cc29f200",
   "metadata": {},
   "outputs": [
    {
     "data": {
      "text/plain": [
       "['20', '21', '22', '23', '24', '25', '26', '27', '28', '29', '30', '31']"
      ]
     },
     "execution_count": 8,
     "metadata": {},
     "output_type": "execute_result"
    }
   ],
   "source": [
    "days"
   ]
  },
  {
   "cell_type": "code",
   "execution_count": 9,
   "id": "d17a47e8-f72b-4ed0-989c-13df63b9009f",
   "metadata": {},
   "outputs": [],
   "source": [
    "import pandas as pd\n",
    "start_date = datetime(2021, 9 , 1)\n",
    "def read_XY(freq):\n",
    "    list_dict = []\n",
    "    for day in days:\n",
    "        folder_date = start_date + timedelta(days = int(day) -1 )\n",
    "        folder = f'/Users/polina/Downloads/{freq}/features_dat/{day}'\n",
    "        # folder = f'/home/acoustic/ddrazumov/2720Hz/features_dat/{day}'\n",
    "        files = !ls {folder}\n",
    "        for file in files:\n",
    "            if file[-3:] != 'dat':\n",
    "                continue \n",
    "            # print('day', day,'file:', file)\n",
    "            data = !cat {folder}/{file}\n",
    "            # data = !cat {file}\n",
    "            data = [ float(t) for line in data for t in line.split() ] \n",
    "            end_hour = int(file.split('_')[0])\n",
    "            end_minutes = int(file.split('_')[1])\n",
    "            end_minutes = round(end_minutes /30)*30\n",
    "            half = (3 - int(file.split('_')[2][4]))*30\n",
    "            start_time = folder_date + timedelta(hours =  end_hour, minutes = end_minutes ) \n",
    "            start_time = start_time - timedelta(minutes = half)\n",
    "            end_time = start_time + timedelta(minutes = 30) \n",
    "            dd = {feature:t for feature, t in zip(all_features, data)}\n",
    "\n",
    "            dd['start_time'] = start_time\n",
    "            dd['end_time'] = end_time\n",
    "            list_dict.append(dd)\n",
    "    sound_df = pd.DataFrame(list_dict)\n",
    "    sound_df.set_index('start_time', inplace=True)\n",
    "    sound_df.index = sound_df.index.tz_localize('Etc/GMT+3')\n",
    "\n",
    "    # Колонки: <br>\n",
    "    # 1 — номер <br>\n",
    "    # 2 — дата и время <br>\n",
    "    # 3-6 – adcp верхний слой две по координатам и две по модуль направление (порядок этих пар может быть перепутан) <br>\n",
    "    # 5-10 — adcp — нижний слой <br>\n",
    "    # 11-14 — ветер \n",
    "\n",
    "    y_file = '/Users/polina/Downloads/20_09_2021_part0.dat'\n",
    "    columns = ['time', 'adcp_up1', 'adcp_up2', 'adcp_down1', 'adcp_down2', 'adcp_down3', 'adcp_down4', 'adcp_down5', 'adcp_down6', 'wind1', 'wind2', 'wind3', 'wind4' ]\n",
    "    Y_df = pd.read_csv(y_file, sep='\\s+', header=None, names = columns, index_col = 0)\n",
    "    Y_df.time = pd.to_datetime(Y_df.time, format='%d.%m.%y_%H:%M:%S')\n",
    "\n",
    "    buoy_file = '/Users/polina/Downloads/Буй Кацивели21.xlsx'\n",
    "    buoy_file_df = pd.read_excel(buoy_file, sheet_name='Лист1',  engine='openpyxl',)\n",
    "    buoy_file_df.rename(columns={'Date/Time': 'start_time'}, inplace=True)\n",
    "    buoy_file_df['start_time'] = buoy_file_df['start_time'].dt.tz_localize('Etc/GMT+3')\n",
    "    buoy_file_df.set_index('start_time', inplace=True)\n",
    "    buoy_file_df.index = buoy_file_df.index.tz_convert('UTC')\n",
    "\n",
    "    df = pd.merge(left = sound_df, right = buoy_file_df, left_index=True, right_index=True )\n",
    "\n",
    "    X = df[all_features]\n",
    "\n",
    "    df['waves_power'] = 1/ (df['Tz'] * df['Tz'])\n",
    "    df['Y_x'] = np.cos(np.deg2rad( df['Dirp']) ) * df['waves_power']\n",
    "    df['Y_y'] = np.sin(np.deg2rad( df['Dirp']) ) * df['waves_power']\n",
    "\n",
    "    Y = df[['Y_x', 'Y_y', 'Dirp', 'waves_power', 'Hm0', 'TI', 'T1', 'Tc', 'Tdw2', 'Tdw1', 'Tpc', 'nu', 'eps', 'QP', 'Ss', 'TRef', 'TSea', 'Bat', 'N', 'E'] ] \n",
    "    return X,Y"
   ]
  },
  {
   "cell_type": "code",
   "execution_count": 10,
   "id": "39f92088-e965-4031-baad-aad26d774612",
   "metadata": {},
   "outputs": [],
   "source": [
    "Xs = {}\n",
    "Xs['1320Hz'], Y = read_XY('1320Hz')\n",
    "Xs['2020Hz'], Y = read_XY('2020Hz')\n",
    "Xs['2080Hz'], Y = read_XY('2080Hz')\n",
    "Xs['2720Hz'], Y = read_XY('2720Hz')\n",
    "# Y['Y_x'] = Y['Y_x'] / Y['Y_x'].std()\n",
    "# Y['Y_y'] = Y['Y_y'] / Y['Y_y'].std()"
   ]
  },
  {
   "cell_type": "code",
   "execution_count": 56,
   "id": "433e4492",
   "metadata": {},
   "outputs": [
    {
     "data": {
      "text/html": [
       "<div>\n",
       "<style scoped>\n",
       "    .dataframe tbody tr th:only-of-type {\n",
       "        vertical-align: middle;\n",
       "    }\n",
       "\n",
       "    .dataframe tbody tr th {\n",
       "        vertical-align: top;\n",
       "    }\n",
       "\n",
       "    .dataframe thead th {\n",
       "        text-align: right;\n",
       "    }\n",
       "</style>\n",
       "<table border=\"1\" class=\"dataframe\">\n",
       "  <thead>\n",
       "    <tr style=\"text-align: right;\">\n",
       "      <th></th>\n",
       "      <th>sk_le -90 0.3355</th>\n",
       "      <th>sk_le -90 0.671</th>\n",
       "      <th>sk_le -90 1.07</th>\n",
       "      <th>sk_le -90 1.342</th>\n",
       "      <th>sk_le -90 1.678</th>\n",
       "      <th>sk_le -90 2.01</th>\n",
       "      <th>sk_le -90 2.35</th>\n",
       "      <th>sk_le -90 2.68</th>\n",
       "      <th>sk_le -60 0.3355</th>\n",
       "      <th>sk_le -60 0.671</th>\n",
       "      <th>...</th>\n",
       "      <th>lv_brag_ri 60 2.35</th>\n",
       "      <th>lv_brag_ri 60 2.68</th>\n",
       "      <th>lv_brag_ri 90 0.3355</th>\n",
       "      <th>lv_brag_ri 90 0.671</th>\n",
       "      <th>lv_brag_ri 90 1.07</th>\n",
       "      <th>lv_brag_ri 90 1.342</th>\n",
       "      <th>lv_brag_ri 90 1.678</th>\n",
       "      <th>lv_brag_ri 90 2.01</th>\n",
       "      <th>lv_brag_ri 90 2.35</th>\n",
       "      <th>lv_brag_ri 90 2.68</th>\n",
       "    </tr>\n",
       "    <tr>\n",
       "      <th>start_time</th>\n",
       "      <th></th>\n",
       "      <th></th>\n",
       "      <th></th>\n",
       "      <th></th>\n",
       "      <th></th>\n",
       "      <th></th>\n",
       "      <th></th>\n",
       "      <th></th>\n",
       "      <th></th>\n",
       "      <th></th>\n",
       "      <th></th>\n",
       "      <th></th>\n",
       "      <th></th>\n",
       "      <th></th>\n",
       "      <th></th>\n",
       "      <th></th>\n",
       "      <th></th>\n",
       "      <th></th>\n",
       "      <th></th>\n",
       "      <th></th>\n",
       "      <th></th>\n",
       "    </tr>\n",
       "  </thead>\n",
       "  <tbody>\n",
       "    <tr>\n",
       "      <th>2021-09-20 12:30:00+00:00</th>\n",
       "      <td>7.731651</td>\n",
       "      <td>2.441708</td>\n",
       "      <td>0.027424</td>\n",
       "      <td>-3.408708</td>\n",
       "      <td>1.267204</td>\n",
       "      <td>-3.721537</td>\n",
       "      <td>-8.650002</td>\n",
       "      <td>-4.745698</td>\n",
       "      <td>7.714575</td>\n",
       "      <td>3.099664</td>\n",
       "      <td>...</td>\n",
       "      <td>-58.794305</td>\n",
       "      <td>-61.183074</td>\n",
       "      <td>-48.540879</td>\n",
       "      <td>-54.570472</td>\n",
       "      <td>-54.932336</td>\n",
       "      <td>-55.579674</td>\n",
       "      <td>-56.498984</td>\n",
       "      <td>-56.786399</td>\n",
       "      <td>-59.113056</td>\n",
       "      <td>-61.899430</td>\n",
       "    </tr>\n",
       "    <tr>\n",
       "      <th>2021-09-20 13:00:00+00:00</th>\n",
       "      <td>9.724335</td>\n",
       "      <td>9.316397</td>\n",
       "      <td>10.360357</td>\n",
       "      <td>5.250668</td>\n",
       "      <td>-0.823545</td>\n",
       "      <td>-1.269012</td>\n",
       "      <td>0.547492</td>\n",
       "      <td>0.577509</td>\n",
       "      <td>9.224927</td>\n",
       "      <td>8.984914</td>\n",
       "      <td>...</td>\n",
       "      <td>-61.960416</td>\n",
       "      <td>-61.246199</td>\n",
       "      <td>-50.146100</td>\n",
       "      <td>-56.900859</td>\n",
       "      <td>-60.572632</td>\n",
       "      <td>-60.590199</td>\n",
       "      <td>-61.347126</td>\n",
       "      <td>-61.784600</td>\n",
       "      <td>-62.965113</td>\n",
       "      <td>-62.087317</td>\n",
       "    </tr>\n",
       "    <tr>\n",
       "      <th>2021-09-20 13:30:00+00:00</th>\n",
       "      <td>11.848206</td>\n",
       "      <td>7.031181</td>\n",
       "      <td>5.934137</td>\n",
       "      <td>4.678516</td>\n",
       "      <td>2.131807</td>\n",
       "      <td>0.314250</td>\n",
       "      <td>-0.673302</td>\n",
       "      <td>-0.402059</td>\n",
       "      <td>10.978598</td>\n",
       "      <td>5.922842</td>\n",
       "      <td>...</td>\n",
       "      <td>-57.641193</td>\n",
       "      <td>-58.971489</td>\n",
       "      <td>-47.967610</td>\n",
       "      <td>-54.745984</td>\n",
       "      <td>-56.067107</td>\n",
       "      <td>-58.102752</td>\n",
       "      <td>-59.376422</td>\n",
       "      <td>-57.770049</td>\n",
       "      <td>-58.280509</td>\n",
       "      <td>-59.500370</td>\n",
       "    </tr>\n",
       "    <tr>\n",
       "      <th>2021-09-20 15:00:00+00:00</th>\n",
       "      <td>2.296195</td>\n",
       "      <td>-1.592450</td>\n",
       "      <td>1.568652</td>\n",
       "      <td>1.161574</td>\n",
       "      <td>1.771208</td>\n",
       "      <td>1.611643</td>\n",
       "      <td>-3.629144</td>\n",
       "      <td>-3.312730</td>\n",
       "      <td>2.457131</td>\n",
       "      <td>-0.156968</td>\n",
       "      <td>...</td>\n",
       "      <td>-59.078662</td>\n",
       "      <td>-59.782766</td>\n",
       "      <td>-54.895944</td>\n",
       "      <td>-57.589936</td>\n",
       "      <td>-61.702399</td>\n",
       "      <td>-62.245699</td>\n",
       "      <td>-62.540732</td>\n",
       "      <td>-61.600334</td>\n",
       "      <td>-61.061243</td>\n",
       "      <td>-60.906671</td>\n",
       "    </tr>\n",
       "    <tr>\n",
       "      <th>2021-09-20 15:30:00+00:00</th>\n",
       "      <td>7.898410</td>\n",
       "      <td>5.946686</td>\n",
       "      <td>6.913246</td>\n",
       "      <td>4.104845</td>\n",
       "      <td>-0.850777</td>\n",
       "      <td>-1.515155</td>\n",
       "      <td>-1.685422</td>\n",
       "      <td>0.687030</td>\n",
       "      <td>7.647329</td>\n",
       "      <td>5.828177</td>\n",
       "      <td>...</td>\n",
       "      <td>-59.118990</td>\n",
       "      <td>-58.220856</td>\n",
       "      <td>-49.943581</td>\n",
       "      <td>-54.823990</td>\n",
       "      <td>-58.007899</td>\n",
       "      <td>-59.255511</td>\n",
       "      <td>-60.237584</td>\n",
       "      <td>-60.506042</td>\n",
       "      <td>-59.892668</td>\n",
       "      <td>-58.729571</td>\n",
       "    </tr>\n",
       "    <tr>\n",
       "      <th>...</th>\n",
       "      <td>...</td>\n",
       "      <td>...</td>\n",
       "      <td>...</td>\n",
       "      <td>...</td>\n",
       "      <td>...</td>\n",
       "      <td>...</td>\n",
       "      <td>...</td>\n",
       "      <td>...</td>\n",
       "      <td>...</td>\n",
       "      <td>...</td>\n",
       "      <td>...</td>\n",
       "      <td>...</td>\n",
       "      <td>...</td>\n",
       "      <td>...</td>\n",
       "      <td>...</td>\n",
       "      <td>...</td>\n",
       "      <td>...</td>\n",
       "      <td>...</td>\n",
       "      <td>...</td>\n",
       "      <td>...</td>\n",
       "      <td>...</td>\n",
       "    </tr>\n",
       "    <tr>\n",
       "      <th>2021-10-02 00:30:00+00:00</th>\n",
       "      <td>9.177321</td>\n",
       "      <td>9.918034</td>\n",
       "      <td>5.634717</td>\n",
       "      <td>4.171949</td>\n",
       "      <td>1.446888</td>\n",
       "      <td>0.667684</td>\n",
       "      <td>-2.181987</td>\n",
       "      <td>1.735686</td>\n",
       "      <td>8.398847</td>\n",
       "      <td>7.709825</td>\n",
       "      <td>...</td>\n",
       "      <td>-52.124126</td>\n",
       "      <td>-50.778062</td>\n",
       "      <td>-43.050339</td>\n",
       "      <td>-48.560995</td>\n",
       "      <td>-49.796030</td>\n",
       "      <td>-50.491998</td>\n",
       "      <td>-51.947003</td>\n",
       "      <td>-54.660844</td>\n",
       "      <td>-52.807840</td>\n",
       "      <td>-51.214340</td>\n",
       "    </tr>\n",
       "    <tr>\n",
       "      <th>2021-10-02 01:00:00+00:00</th>\n",
       "      <td>5.184233</td>\n",
       "      <td>6.755721</td>\n",
       "      <td>5.241697</td>\n",
       "      <td>5.512477</td>\n",
       "      <td>4.981966</td>\n",
       "      <td>6.720671</td>\n",
       "      <td>5.389430</td>\n",
       "      <td>3.046101</td>\n",
       "      <td>4.660093</td>\n",
       "      <td>6.928037</td>\n",
       "      <td>...</td>\n",
       "      <td>-51.443359</td>\n",
       "      <td>-51.863655</td>\n",
       "      <td>-42.431982</td>\n",
       "      <td>-50.015946</td>\n",
       "      <td>-52.984122</td>\n",
       "      <td>-53.853783</td>\n",
       "      <td>-54.857918</td>\n",
       "      <td>-54.461479</td>\n",
       "      <td>-52.087174</td>\n",
       "      <td>-52.765944</td>\n",
       "    </tr>\n",
       "    <tr>\n",
       "      <th>2021-10-02 01:30:00+00:00</th>\n",
       "      <td>10.483612</td>\n",
       "      <td>8.856688</td>\n",
       "      <td>9.478349</td>\n",
       "      <td>9.797127</td>\n",
       "      <td>6.966956</td>\n",
       "      <td>3.996187</td>\n",
       "      <td>2.987490</td>\n",
       "      <td>0.706217</td>\n",
       "      <td>10.221485</td>\n",
       "      <td>8.559717</td>\n",
       "      <td>...</td>\n",
       "      <td>-48.919074</td>\n",
       "      <td>-49.926339</td>\n",
       "      <td>-43.275150</td>\n",
       "      <td>-49.394659</td>\n",
       "      <td>-52.035808</td>\n",
       "      <td>-50.708320</td>\n",
       "      <td>-50.697960</td>\n",
       "      <td>-50.648787</td>\n",
       "      <td>-49.990111</td>\n",
       "      <td>-51.256458</td>\n",
       "    </tr>\n",
       "    <tr>\n",
       "      <th>2021-10-02 02:00:00+00:00</th>\n",
       "      <td>7.637751</td>\n",
       "      <td>7.019691</td>\n",
       "      <td>5.953286</td>\n",
       "      <td>5.747964</td>\n",
       "      <td>4.353444</td>\n",
       "      <td>3.448919</td>\n",
       "      <td>2.627711</td>\n",
       "      <td>-0.001436</td>\n",
       "      <td>7.513235</td>\n",
       "      <td>6.819166</td>\n",
       "      <td>...</td>\n",
       "      <td>-53.042979</td>\n",
       "      <td>-51.325415</td>\n",
       "      <td>-46.759175</td>\n",
       "      <td>-52.467800</td>\n",
       "      <td>-54.433114</td>\n",
       "      <td>-55.616878</td>\n",
       "      <td>-55.694242</td>\n",
       "      <td>-55.688641</td>\n",
       "      <td>-54.431605</td>\n",
       "      <td>-52.679662</td>\n",
       "    </tr>\n",
       "    <tr>\n",
       "      <th>2021-10-02 02:30:00+00:00</th>\n",
       "      <td>7.253612</td>\n",
       "      <td>8.751994</td>\n",
       "      <td>8.206246</td>\n",
       "      <td>8.797101</td>\n",
       "      <td>6.527189</td>\n",
       "      <td>5.075163</td>\n",
       "      <td>2.513843</td>\n",
       "      <td>1.913494</td>\n",
       "      <td>6.238549</td>\n",
       "      <td>8.142865</td>\n",
       "      <td>...</td>\n",
       "      <td>-50.614477</td>\n",
       "      <td>-50.363637</td>\n",
       "      <td>-45.996903</td>\n",
       "      <td>-52.912660</td>\n",
       "      <td>-52.734854</td>\n",
       "      <td>-51.752919</td>\n",
       "      <td>-54.353867</td>\n",
       "      <td>-54.531564</td>\n",
       "      <td>-51.536007</td>\n",
       "      <td>-51.228732</td>\n",
       "    </tr>\n",
       "  </tbody>\n",
       "</table>\n",
       "<p>292 rows × 504 columns</p>\n",
       "</div>"
      ],
      "text/plain": [
       "                           sk_le -90 0.3355  sk_le -90 0.671  sk_le -90 1.07  \\\n",
       "start_time                                                                     \n",
       "2021-09-20 12:30:00+00:00          7.731651         2.441708        0.027424   \n",
       "2021-09-20 13:00:00+00:00          9.724335         9.316397       10.360357   \n",
       "2021-09-20 13:30:00+00:00         11.848206         7.031181        5.934137   \n",
       "2021-09-20 15:00:00+00:00          2.296195        -1.592450        1.568652   \n",
       "2021-09-20 15:30:00+00:00          7.898410         5.946686        6.913246   \n",
       "...                                     ...              ...             ...   \n",
       "2021-10-02 00:30:00+00:00          9.177321         9.918034        5.634717   \n",
       "2021-10-02 01:00:00+00:00          5.184233         6.755721        5.241697   \n",
       "2021-10-02 01:30:00+00:00         10.483612         8.856688        9.478349   \n",
       "2021-10-02 02:00:00+00:00          7.637751         7.019691        5.953286   \n",
       "2021-10-02 02:30:00+00:00          7.253612         8.751994        8.206246   \n",
       "\n",
       "                           sk_le -90 1.342  sk_le -90 1.678  sk_le -90 2.01  \\\n",
       "start_time                                                                    \n",
       "2021-09-20 12:30:00+00:00        -3.408708         1.267204       -3.721537   \n",
       "2021-09-20 13:00:00+00:00         5.250668        -0.823545       -1.269012   \n",
       "2021-09-20 13:30:00+00:00         4.678516         2.131807        0.314250   \n",
       "2021-09-20 15:00:00+00:00         1.161574         1.771208        1.611643   \n",
       "2021-09-20 15:30:00+00:00         4.104845        -0.850777       -1.515155   \n",
       "...                                    ...              ...             ...   \n",
       "2021-10-02 00:30:00+00:00         4.171949         1.446888        0.667684   \n",
       "2021-10-02 01:00:00+00:00         5.512477         4.981966        6.720671   \n",
       "2021-10-02 01:30:00+00:00         9.797127         6.966956        3.996187   \n",
       "2021-10-02 02:00:00+00:00         5.747964         4.353444        3.448919   \n",
       "2021-10-02 02:30:00+00:00         8.797101         6.527189        5.075163   \n",
       "\n",
       "                           sk_le -90 2.35  sk_le -90 2.68  sk_le -60 0.3355  \\\n",
       "start_time                                                                    \n",
       "2021-09-20 12:30:00+00:00       -8.650002       -4.745698          7.714575   \n",
       "2021-09-20 13:00:00+00:00        0.547492        0.577509          9.224927   \n",
       "2021-09-20 13:30:00+00:00       -0.673302       -0.402059         10.978598   \n",
       "2021-09-20 15:00:00+00:00       -3.629144       -3.312730          2.457131   \n",
       "2021-09-20 15:30:00+00:00       -1.685422        0.687030          7.647329   \n",
       "...                                   ...             ...               ...   \n",
       "2021-10-02 00:30:00+00:00       -2.181987        1.735686          8.398847   \n",
       "2021-10-02 01:00:00+00:00        5.389430        3.046101          4.660093   \n",
       "2021-10-02 01:30:00+00:00        2.987490        0.706217         10.221485   \n",
       "2021-10-02 02:00:00+00:00        2.627711       -0.001436          7.513235   \n",
       "2021-10-02 02:30:00+00:00        2.513843        1.913494          6.238549   \n",
       "\n",
       "                           sk_le -60 0.671  ...  lv_brag_ri 60 2.35  \\\n",
       "start_time                                  ...                       \n",
       "2021-09-20 12:30:00+00:00         3.099664  ...          -58.794305   \n",
       "2021-09-20 13:00:00+00:00         8.984914  ...          -61.960416   \n",
       "2021-09-20 13:30:00+00:00         5.922842  ...          -57.641193   \n",
       "2021-09-20 15:00:00+00:00        -0.156968  ...          -59.078662   \n",
       "2021-09-20 15:30:00+00:00         5.828177  ...          -59.118990   \n",
       "...                                    ...  ...                 ...   \n",
       "2021-10-02 00:30:00+00:00         7.709825  ...          -52.124126   \n",
       "2021-10-02 01:00:00+00:00         6.928037  ...          -51.443359   \n",
       "2021-10-02 01:30:00+00:00         8.559717  ...          -48.919074   \n",
       "2021-10-02 02:00:00+00:00         6.819166  ...          -53.042979   \n",
       "2021-10-02 02:30:00+00:00         8.142865  ...          -50.614477   \n",
       "\n",
       "                           lv_brag_ri 60 2.68  lv_brag_ri 90 0.3355  \\\n",
       "start_time                                                            \n",
       "2021-09-20 12:30:00+00:00          -61.183074            -48.540879   \n",
       "2021-09-20 13:00:00+00:00          -61.246199            -50.146100   \n",
       "2021-09-20 13:30:00+00:00          -58.971489            -47.967610   \n",
       "2021-09-20 15:00:00+00:00          -59.782766            -54.895944   \n",
       "2021-09-20 15:30:00+00:00          -58.220856            -49.943581   \n",
       "...                                       ...                   ...   \n",
       "2021-10-02 00:30:00+00:00          -50.778062            -43.050339   \n",
       "2021-10-02 01:00:00+00:00          -51.863655            -42.431982   \n",
       "2021-10-02 01:30:00+00:00          -49.926339            -43.275150   \n",
       "2021-10-02 02:00:00+00:00          -51.325415            -46.759175   \n",
       "2021-10-02 02:30:00+00:00          -50.363637            -45.996903   \n",
       "\n",
       "                           lv_brag_ri 90 0.671  lv_brag_ri 90 1.07  \\\n",
       "start_time                                                           \n",
       "2021-09-20 12:30:00+00:00           -54.570472          -54.932336   \n",
       "2021-09-20 13:00:00+00:00           -56.900859          -60.572632   \n",
       "2021-09-20 13:30:00+00:00           -54.745984          -56.067107   \n",
       "2021-09-20 15:00:00+00:00           -57.589936          -61.702399   \n",
       "2021-09-20 15:30:00+00:00           -54.823990          -58.007899   \n",
       "...                                        ...                 ...   \n",
       "2021-10-02 00:30:00+00:00           -48.560995          -49.796030   \n",
       "2021-10-02 01:00:00+00:00           -50.015946          -52.984122   \n",
       "2021-10-02 01:30:00+00:00           -49.394659          -52.035808   \n",
       "2021-10-02 02:00:00+00:00           -52.467800          -54.433114   \n",
       "2021-10-02 02:30:00+00:00           -52.912660          -52.734854   \n",
       "\n",
       "                           lv_brag_ri 90 1.342  lv_brag_ri 90 1.678  \\\n",
       "start_time                                                            \n",
       "2021-09-20 12:30:00+00:00           -55.579674           -56.498984   \n",
       "2021-09-20 13:00:00+00:00           -60.590199           -61.347126   \n",
       "2021-09-20 13:30:00+00:00           -58.102752           -59.376422   \n",
       "2021-09-20 15:00:00+00:00           -62.245699           -62.540732   \n",
       "2021-09-20 15:30:00+00:00           -59.255511           -60.237584   \n",
       "...                                        ...                  ...   \n",
       "2021-10-02 00:30:00+00:00           -50.491998           -51.947003   \n",
       "2021-10-02 01:00:00+00:00           -53.853783           -54.857918   \n",
       "2021-10-02 01:30:00+00:00           -50.708320           -50.697960   \n",
       "2021-10-02 02:00:00+00:00           -55.616878           -55.694242   \n",
       "2021-10-02 02:30:00+00:00           -51.752919           -54.353867   \n",
       "\n",
       "                           lv_brag_ri 90 2.01  lv_brag_ri 90 2.35  \\\n",
       "start_time                                                          \n",
       "2021-09-20 12:30:00+00:00          -56.786399          -59.113056   \n",
       "2021-09-20 13:00:00+00:00          -61.784600          -62.965113   \n",
       "2021-09-20 13:30:00+00:00          -57.770049          -58.280509   \n",
       "2021-09-20 15:00:00+00:00          -61.600334          -61.061243   \n",
       "2021-09-20 15:30:00+00:00          -60.506042          -59.892668   \n",
       "...                                       ...                 ...   \n",
       "2021-10-02 00:30:00+00:00          -54.660844          -52.807840   \n",
       "2021-10-02 01:00:00+00:00          -54.461479          -52.087174   \n",
       "2021-10-02 01:30:00+00:00          -50.648787          -49.990111   \n",
       "2021-10-02 02:00:00+00:00          -55.688641          -54.431605   \n",
       "2021-10-02 02:30:00+00:00          -54.531564          -51.536007   \n",
       "\n",
       "                           lv_brag_ri 90 2.68  \n",
       "start_time                                     \n",
       "2021-09-20 12:30:00+00:00          -61.899430  \n",
       "2021-09-20 13:00:00+00:00          -62.087317  \n",
       "2021-09-20 13:30:00+00:00          -59.500370  \n",
       "2021-09-20 15:00:00+00:00          -60.906671  \n",
       "2021-09-20 15:30:00+00:00          -58.729571  \n",
       "...                                       ...  \n",
       "2021-10-02 00:30:00+00:00          -51.214340  \n",
       "2021-10-02 01:00:00+00:00          -52.765944  \n",
       "2021-10-02 01:30:00+00:00          -51.256458  \n",
       "2021-10-02 02:00:00+00:00          -52.679662  \n",
       "2021-10-02 02:30:00+00:00          -51.228732  \n",
       "\n",
       "[292 rows x 504 columns]"
      ]
     },
     "execution_count": 56,
     "metadata": {},
     "output_type": "execute_result"
    }
   ],
   "source": [
    "Xs['1320Hz']"
   ]
  },
  {
   "cell_type": "code",
   "execution_count": 9,
   "id": "9f360711-e25c-4dea-8b88-49cd99eb224e",
   "metadata": {},
   "outputs": [],
   "source": [
    "# import xgboost as xgb\n",
    "# model = xgb.XGBRegressor(objective='reg:squarederror', n_estimators = 20)\n",
    "# model = xgb.XGBRegressor(booster='gblinear', objective='reg:squarederror', n_estimators = 20)\n",
    "# \"booster\":\"gblinear\", \"objective\":\"reg:linear\""
   ]
  },
  {
   "cell_type": "code",
   "execution_count": 24,
   "id": "935f4fea-817d-4455-b6ed-d8d292a76e33",
   "metadata": {},
   "outputs": [],
   "source": [
    "# from sklearn.model_selection import cross_val_score\n",
    "# cross_val_score(model, X, Y, cv=5)\n"
   ]
  },
  {
   "cell_type": "code",
   "execution_count": 25,
   "id": "0e08ab7e-e24b-4a50-8a3a-f4766086e072",
   "metadata": {},
   "outputs": [],
   "source": [
    "# model.fit(X ,Y, verbose=True )\n",
    "# model.get_booster().get_score(importance_type='gain')"
   ]
  },
  {
   "cell_type": "code",
   "execution_count": 26,
   "id": "1a972b09-2d85-4aaf-abb6-3e9cd09ebaac",
   "metadata": {},
   "outputs": [
    {
     "data": {
      "text/plain": [
       "XGBRegressor(base_score=0.5, booster='gbtree', colsample_bylevel=1,\n",
       "             colsample_bynode=1, colsample_bytree=1, enable_categorical=False,\n",
       "             gamma=0, gpu_id=-1, importance_type=None,\n",
       "             interaction_constraints='', learning_rate=0.300000012,\n",
       "             max_delta_step=0, max_depth=6, min_child_weight=1, missing=nan,\n",
       "             monotone_constraints='()', n_estimators=20, n_jobs=24,\n",
       "             num_parallel_tree=1, predictor='auto', random_state=0, reg_alpha=0,\n",
       "             reg_lambda=1, scale_pos_weight=1, subsample=1, tree_method='exact',\n",
       "             validate_parameters=1, verbosity=None)"
      ]
     },
     "execution_count": 26,
     "metadata": {},
     "output_type": "execute_result"
    }
   ],
   "source": [
    "from xgboost import plot_importance\n",
    "from matplotlib import pyplot\n",
    "from matplotlib.transforms import Bbox\n",
    "# matplotlib.transforms.Bbox\n",
    "model = xgb.XGBRegressor(objective='reg:squarederror', n_estimators = 20)\n",
    "# model = xgb.XGBRegressor(booster='gblinear', objective='reg:squarederror', n_estimators = 20)\n",
    "model.fit(Xs['2720Hz'],Y['Y_x'], verbose=True )\n",
    "# ax = plot_importance(model, max_num_features=20, title='Feature perfomance')\n",
    "# ax.figure.savefig('feature_perfomace_2720Hz.pdf', format='pdf', pad_inches=0.1, bbox_inches='tight')"
   ]
  },
  {
   "cell_type": "markdown",
   "id": "4618306b-886a-4862-94e7-6448898d29bd",
   "metadata": {
    "tags": []
   },
   "source": [
    "# Оценим как хорошо работает модель #\n"
   ]
  },
  {
   "cell_type": "code",
   "execution_count": 54,
   "id": "f0ba9e16-0830-43be-89e6-fa26f7e60d73",
   "metadata": {},
   "outputs": [],
   "source": [
    "def rmspe(y_true, y_pred):\n",
    "    '''\n",
    "    Compute Root Mean Square Percentage Error between two arrays.\n",
    "    '''\n",
    "    loss = 100*np.sqrt(np.mean(np.square(((y_true - y_pred) / y_true)), axis=0))\n",
    "\n",
    "    return loss"
   ]
  },
  {
   "cell_type": "code",
   "execution_count": 55,
   "id": "bc398e4d-1d0f-44bf-860e-aa5ce0638b25",
   "metadata": {},
   "outputs": [
    {
     "name": "stdout",
     "output_type": "stream",
     "text": [
      "Y_x| 1320Hz Hz, 5 folds. RMSE mean: 0.03034100385109953, std: 0.006397895250807975, mean%:  104.7557962115607, std%:  22.089467255786406\n",
      "Y_x| 1320Hz Hz, 5 folds. RMSPE mean: 288.3336518989442%\n",
      "Y_x| 2020Hz Hz, 5 folds. RMSE mean: 0.029722636255428342, std: 0.0064789874352633265, mean%:  102.62081115457764, std%:  22.369447324700552\n",
      "Y_x| 2020Hz Hz, 5 folds. RMSPE mean: 332.575567739705%\n",
      "Y_x| 2080Hz Hz, 5 folds. RMSE mean: 0.029990366142306008, std: 0.007306792931138446, mean%:  103.54517930031005, std%:  25.227540756752944\n",
      "Y_x| 2080Hz Hz, 5 folds. RMSPE mean: 233.35363139996224%\n",
      "Y_x| 2720Hz Hz, 5 folds. RMSE mean: 0.03157846806899719, std: 0.00861888153633714, mean%:  109.02828337333561, std%:  29.757677175845892\n",
      "Y_x| 2720Hz Hz, 5 folds. RMSPE mean: 118.0527390306229%\n",
      "Y_y| 1320Hz Hz, 5 folds. RMSE mean: 0.059451684516773504, std: 0.019053616246797193, mean%:  109.11917173142731, std%:  34.97150400763467\n",
      "Y_y| 1320Hz Hz, 5 folds. RMSPE mean: 78.01659993606617%\n",
      "Y_y| 2020Hz Hz, 5 folds. RMSE mean: 0.061238331577677885, std: 0.023220976163221087, mean%:  112.3984303268212, std%:  42.62038504579309\n",
      "Y_y| 2020Hz Hz, 5 folds. RMSPE mean: 76.16115340951929%\n",
      "Y_y| 2080Hz Hz, 5 folds. RMSE mean: 0.058572049814558505, std: 0.024200975268203355, mean%:  107.50466726595938, std%:  44.419100952707964\n",
      "Y_y| 2080Hz Hz, 5 folds. RMSPE mean: 63.962727562716914%\n",
      "Y_y| 2720Hz Hz, 5 folds. RMSE mean: 0.06016893911324903, std: 0.02424812268378927, mean%:  110.43563951739706, std%:  44.50563654845817\n",
      "Y_y| 2720Hz Hz, 5 folds. RMSPE mean: 111.6724511830601%\n"
     ]
    },
    {
     "data": {
      "text/plain": [
       "Text(0.5, 0, 'Days')"
      ]
     },
     "execution_count": 55,
     "metadata": {},
     "output_type": "execute_result"
    },
    {
     "data": {
      "image/png": "[encoded data removed]",
      "text/plain": [
       "<Figure size 538.583x538.583 with 2 Axes>"
      ]
     },
     "metadata": {
      "needs_background": "light"
     },
     "output_type": "display_data"
    }
   ],
   "source": [
    "from matplotlib.pyplot import figure\n",
    "import matplotlib\n",
    "from sklearn.metrics import mean_squared_error\n",
    "from sklearn.model_selection import train_test_split\n",
    "from sklearn.model_selection import cross_validate\n",
    "\n",
    "plt.rcParams.update({'font.size': 7})\n",
    "cm = 1/2.54  # centimeters in inches\n",
    "# [fig, ax] = plt.subplots(2,1, figsize=(19*cm, 19*cm))\n",
    "[fig, ax] = plt.subplots(2,1, figsize=(19*cm, 19*cm))\n",
    "style_list=['-','--','-.',':'] # list of basic linestyles\n",
    "marker_list=['.','o', '^', '*']\n",
    "\n",
    "def mike_style_plot(model, ax_, Xs,Y, target='Y_x' , title=\"\", folds=5, _func=None): \n",
    "    # fig = matplotlib.pyplot.gcf()\n",
    "    # fig.set_size_inches(19*cm, 19*cm)\n",
    "    if _func is None: _func = lambda x: x\n",
    "    ax_.set_title(title)\n",
    "    arr = {}\n",
    "    for (freq, X), style, marker in zip(Xs.items(),style_list,marker_list  ):\n",
    "        X_train, X_test, y_train, y_test = train_test_split(X, Y[target], test_size=0.1, random_state=108)\n",
    "        model.fit(X_train, y_train, verbose=True)\n",
    "        y_test_pred = model.predict(X_test)\n",
    "        xx, yy, yy_pred = zip(*(sorted(zip(X_test.index, y_test, y_test_pred) ) ))\n",
    "        ax_.plot(xx, _func(yy_pred),  linewidth=2, linestyle = style, marker=marker, label = f'Estimated {freq}')\n",
    "        cv_results = cross_validate(model, X, Y[target], scoring='neg_root_mean_squared_error', cv=folds)\n",
    "        print(f\"{target}| {freq} Hz, {folds} folds. RMSE mean: {-np.mean(cv_results['test_score']) }, std: {np.std(cv_results['test_score'])}, mean%:  {100.*-np.mean(cv_results['test_score']) / Y[target].std()}, std%:  {100.*np.std(cv_results['test_score']) / Y[target].std()}\" ) \n",
    "        print(f\"{target}| {freq} Hz, {folds} folds. RMSPE mean: {rmspe(np.array(yy), np.array(yy_pred) )}%\" ) \n",
    "    \n",
    "    # plot true values curve\n",
    "    ax_.plot(xx, _func(yy),  alpha=0.5, linewidth=2, color='black', label = 'Observed values', marker='*')\n",
    "    \n",
    "model = xgb.XGBRegressor(objective='reg:squarederror', n_estimators = 30, max_depth=3)\n",
    "    \n",
    "mike_style_plot(model, ax[0], Xs, Y, 'Y_x', '(a)')\n",
    "\n",
    "ax[0].set_ylabel('$ Y^{North} \\; (Hz^2) $')\n",
    "ax[0].legend()\n",
    "mike_style_plot(model, ax[1], Xs, Y, 'Y_y', '(b)')\n",
    "ax[1].set_ylabel('$ Y^{East} \\; (Hz^2) $')\n",
    "ax[1].set_xlabel('Days')\n",
    "\n",
    "\n",
    "# fig.savefig('_north_east_freq_preds_mikestyle.pdf', format='pdf', pad_inches=0.1, bbox_inches='tight') "
   ]
  },
  {
   "cell_type": "code",
   "execution_count": 113,
   "id": "1499351c-53a1-4252-aaec-f3f0871d220e",
   "metadata": {},
   "outputs": [
    {
     "ename": "AttributeError",
     "evalue": "'AxesSubplot' object has no attribute 'items'",
     "output_type": "error",
     "traceback": [
      "\u001b[0;31m---------------------------------------------------------------------------\u001b[0m",
      "\u001b[0;31mAttributeError\u001b[0m                            Traceback (most recent call last)",
      "Input \u001b[0;32mIn [113]\u001b[0m, in \u001b[0;36m<cell line: 3>\u001b[0;34m()\u001b[0m\n\u001b[1;32m      1\u001b[0m [fig, ax] \u001b[38;5;241m=\u001b[39m plt\u001b[38;5;241m.\u001b[39msubplots(\u001b[38;5;241m2\u001b[39m,\u001b[38;5;241m1\u001b[39m, figsize\u001b[38;5;241m=\u001b[39m(\u001b[38;5;241m19\u001b[39m\u001b[38;5;241m*\u001b[39mcm, \u001b[38;5;241m19\u001b[39m\u001b[38;5;241m*\u001b[39mcm))\n\u001b[1;32m      2\u001b[0m model \u001b[38;5;241m=\u001b[39m xgb\u001b[38;5;241m.\u001b[39mXGBRegressor(objective\u001b[38;5;241m=\u001b[39m\u001b[38;5;124m'\u001b[39m\u001b[38;5;124mreg:squarederror\u001b[39m\u001b[38;5;124m'\u001b[39m, n_estimators \u001b[38;5;241m=\u001b[39m \u001b[38;5;241m30\u001b[39m, max_depth\u001b[38;5;241m=\u001b[39m\u001b[38;5;241m3\u001b[39m)\n\u001b[0;32m----> 3\u001b[0m \u001b[43mmike_style_plot\u001b[49m\u001b[43m(\u001b[49m\u001b[43mmodel\u001b[49m\u001b[43m,\u001b[49m\u001b[43m \u001b[49m\u001b[43max\u001b[49m\u001b[43m[\u001b[49m\u001b[38;5;241;43m0\u001b[39;49m\u001b[43m]\u001b[49m\u001b[43m,\u001b[49m\u001b[43m \u001b[49m\u001b[43mXs\u001b[49m\u001b[43m,\u001b[49m\u001b[43m \u001b[49m\u001b[43mY\u001b[49m\u001b[43m,\u001b[49m\u001b[43m \u001b[49m\u001b[38;5;124;43m'\u001b[39;49m\u001b[38;5;124;43mHm0\u001b[39;49m\u001b[38;5;124;43m'\u001b[39;49m\u001b[43m,\u001b[49m\u001b[43m \u001b[49m\u001b[38;5;124;43m'\u001b[39;49m\u001b[38;5;124;43m(a)\u001b[39;49m\u001b[38;5;124;43m'\u001b[39;49m\u001b[43m)\u001b[49m\n\u001b[1;32m      4\u001b[0m ax[\u001b[38;5;241m0\u001b[39m]\u001b[38;5;241m.\u001b[39mset_ylabel(\u001b[38;5;124m'\u001b[39m\u001b[38;5;124m$H_\u001b[39m\u001b[38;5;132;01m{m0}\u001b[39;00m\u001b[38;5;124m$ (cm)\u001b[39m\u001b[38;5;124m'\u001b[39m)\n\u001b[1;32m      5\u001b[0m ax[\u001b[38;5;241m0\u001b[39m]\u001b[38;5;241m.\u001b[39mlegend()\n",
      "Input \u001b[0;32mIn [93]\u001b[0m, in \u001b[0;36mmike_style_plot\u001b[0;34m(model, Xs, Y, target, title, folds, _func)\u001b[0m\n\u001b[1;32m     12\u001b[0m     plt\u001b[38;5;241m.\u001b[39mtitle(title)\n\u001b[1;32m     13\u001b[0m     arr \u001b[38;5;241m=\u001b[39m {}\n\u001b[0;32m---> 14\u001b[0m     \u001b[38;5;28;01mfor\u001b[39;00m (freq, X), style, marker \u001b[38;5;129;01min\u001b[39;00m \u001b[38;5;28mzip\u001b[39m(\u001b[43mXs\u001b[49m\u001b[38;5;241;43m.\u001b[39;49m\u001b[43mitems\u001b[49m(),style_list,marker_list  ):\n\u001b[1;32m     15\u001b[0m         X_train, X_test, y_train, y_test \u001b[38;5;241m=\u001b[39m train_test_split(X, Y[target], test_size\u001b[38;5;241m=\u001b[39m\u001b[38;5;241m0.1\u001b[39m, random_state\u001b[38;5;241m=\u001b[39m\u001b[38;5;241m108\u001b[39m)\n\u001b[1;32m     16\u001b[0m \u001b[38;5;66;03m#         smotenc = SMOTENC([1],random_state = 101)\u001b[39;00m\n\u001b[1;32m     17\u001b[0m \u001b[38;5;66;03m#         X_train_sm, y_train_sm = smotenc.fit_resample(X_train, y_train)\u001b[39;00m\n",
      "\u001b[0;31mAttributeError\u001b[0m: 'AxesSubplot' object has no attribute 'items'"
     ]
    },
    {
     "data": {
      "image/png": "[encoded data removed]",
      "text/plain": [
       "<Figure size 538.583x538.583 with 2 Axes>"
      ]
     },
     "metadata": {
      "needs_background": "light"
     },
     "output_type": "display_data"
    },
    {
     "data": {
      "image/png": "[encoded data removed]",
      "text/plain": [
       "<Figure size 720x576 with 1 Axes>"
      ]
     },
     "metadata": {
      "needs_background": "light"
     },
     "output_type": "display_data"
    }
   ],
   "source": [
    "[fig, ax] = plt.subplots(2,1, figsize=(19*cm, 19*cm))\n",
    "model = xgb.XGBRegressor(objective='reg:squarederror', n_estimators = 30, max_depth=3)\n",
    "mike_style_plot(model, ax[0], Xs, Y, 'Hm0', '(a)')\n",
    "ax[0].set_ylabel('$H_{m0}$ (cm)')\n",
    "ax[0].legend()\n",
    "mike_style_plot(model, ax[1], Xs, Y, 'waves_power', '(b)', _func=np.sqrt)\n",
    "ax[1].set_ylabel('$1/T_z$ (Hz)')\n",
    "ax[1].set_xlabel('Days')"
   ]
  },
  {
   "cell_type": "markdown",
   "id": "7248e0bb",
   "metadata": {},
   "source": [
    "## Wave direction classification"
   ]
  },
  {
   "cell_type": "markdown",
   "id": "cbb936b4",
   "metadata": {},
   "source": [
    "**work with 2720Hz**"
   ]
  },
  {
   "cell_type": "code",
   "execution_count": 11,
   "id": "f5e76657",
   "metadata": {},
   "outputs": [],
   "source": [
    "dirp_classes = []\n",
    "for index, row in Y.iterrows():\n",
    "    if row['Dirp'] <= 90.0:\n",
    "        dirp_classes.append(0)\n",
    "    elif row['Dirp'] <= 180.0:\n",
    "        dirp_classes.append(1)\n",
    "    elif row['Dirp'] <= 270.0:\n",
    "        dirp_classes.append(2)\n",
    "    else:\n",
    "        dirp_classes.append(3)"
   ]
  },
  {
   "cell_type": "code",
   "execution_count": 12,
   "id": "e688c8d7",
   "metadata": {},
   "outputs": [
    {
     "data": {
      "image/png": "[encoded data removed]",
      "text/plain": [
       "<Figure size 576x432 with 1 Axes>"
      ]
     },
     "metadata": {
      "needs_background": "light"
     },
     "output_type": "display_data"
    }
   ],
   "source": [
    "from collections import Counter\n",
    "dirp_classes_dict = Counter(dirp_classes)\n",
    "\n",
    "keys = dirp_classes_dict.keys()\n",
    "values = dirp_classes_dict.values()\n",
    "\n",
    "fig, ax = plt.subplots(figsize=(8, 6))\n",
    "plt.bar(keys, values)\n",
    "plt.title('Wave directions classification')\n",
    "plt.show()"
   ]
  },
  {
   "cell_type": "code",
   "execution_count": 13,
   "id": "8a6b0a60",
   "metadata": {},
   "outputs": [],
   "source": [
    "Y['Dirp_class'] = dirp_classes"
   ]
  },
  {
   "cell_type": "code",
   "execution_count": 14,
   "id": "40aabd77",
   "metadata": {},
   "outputs": [],
   "source": [
    "from sklearn.model_selection import KFold\n",
    "from sklearn.model_selection import cross_val_score\n",
    "from sklearn.ensemble import GradientBoostingClassifier\n",
    "from sklearn.ensemble import RandomForestClassifier"
   ]
  },
  {
   "cell_type": "code",
   "execution_count": 15,
   "id": "538fb688",
   "metadata": {},
   "outputs": [
    {
     "name": "stdout",
     "output_type": "stream",
     "text": [
      "Accuracy: 0.726 (0.059)\n"
     ]
    }
   ],
   "source": [
    "kfold = KFold(n_splits=10, random_state=1, shuffle=True)\n",
    "random_forest = RandomForestClassifier(n_estimators=10, max_depth=7, random_state=17)\n",
    "scores = cross_val_score(random_forest, Xs['2720Hz'], Y['Dirp_class'], scoring='accuracy', cv=kfold, n_jobs=-1)\n",
    "print('Accuracy: %.3f (%.3f)' % (np.mean(scores), np.std(scores)))"
   ]
  },
  {
   "cell_type": "code",
   "execution_count": 16,
   "id": "e2da2ac5",
   "metadata": {},
   "outputs": [
    {
     "name": "stdout",
     "output_type": "stream",
     "text": [
      "Accuracy: 0.706 (0.072)\n"
     ]
    }
   ],
   "source": [
    "kfold = KFold(n_splits=10, random_state=1, shuffle=True)\n",
    "gbc = GradientBoostingClassifier(n_estimators=10, max_depth=7, random_state=0)\n",
    "scores = cross_val_score(gbc, Xs['2720Hz'], Y['Dirp_class'], scoring='accuracy', cv=kfold, n_jobs=-1)\n",
    "print('Accuracy: %.3f (%.3f)' % (np.mean(scores), np.std(scores)))"
   ]
  },
  {
   "cell_type": "markdown",
   "id": "d6093834",
   "metadata": {},
   "source": [
    "**Parameters optimization**"
   ]
  },
  {
   "cell_type": "code",
   "execution_count": 38,
   "id": "77fec132",
   "metadata": {},
   "outputs": [],
   "source": [
    "from sklearn.model_selection import GridSearchCV"
   ]
  },
  {
   "cell_type": "code",
   "execution_count": 39,
   "id": "ae34619b",
   "metadata": {},
   "outputs": [
    {
     "data": {
      "text/plain": [
       "GridSearchCV(cv=KFold(n_splits=10, random_state=1, shuffle=True),\n",
       "             estimator=RandomForestClassifier(),\n",
       "             param_grid={'class_weight': ['balanced'],\n",
       "                         'max_depth': [5, 7, 9, 11],\n",
       "                         'min_samples_leaf': [1, 2, 3],\n",
       "                         'min_samples_split': [2, 3, 4],\n",
       "                         'n_estimators': [10, 20, 40, 50]})"
      ]
     },
     "execution_count": 39,
     "metadata": {},
     "output_type": "execute_result"
    }
   ],
   "source": [
    "param_grid = {\n",
    "    'max_depth': [5, 7, 9, 11],\n",
    "    'n_estimators': [10, 20, 40, 50],\n",
    "    'min_samples_split': [2, 3, 4],\n",
    "    'min_samples_leaf' : [1, 2, 3],\n",
    "    'class_weight' : [\"balanced\"]\n",
    "}\n",
    "\n",
    "kfold = KFold(n_splits=10, random_state=1, shuffle=True)\n",
    "random_forest = RandomForestClassifier()\n",
    "grid_search = GridSearchCV(random_forest, param_grid, cv=kfold)\n",
    "grid_search.fit(Xs['2720Hz'], Y['Dirp_class'])"
   ]
  },
  {
   "cell_type": "code",
   "execution_count": 40,
   "id": "08cfcdfe",
   "metadata": {},
   "outputs": [
    {
     "data": {
      "text/plain": [
       "RandomForestClassifier(class_weight='balanced', max_depth=5, min_samples_leaf=2,\n",
       "                       min_samples_split=3, n_estimators=40)"
      ]
     },
     "execution_count": 40,
     "metadata": {},
     "output_type": "execute_result"
    }
   ],
   "source": [
    "grid_search.best_estimator_"
   ]
  },
  {
   "cell_type": "code",
   "execution_count": 41,
   "id": "6e3ea6d5",
   "metadata": {},
   "outputs": [
    {
     "name": "stdout",
     "output_type": "stream",
     "text": [
      "Accuracy: 0.743 (0.083)\n"
     ]
    }
   ],
   "source": [
    "kfold = KFold(n_splits=10, random_state=1, shuffle=True)\n",
    "random_forest = RandomForestClassifier(max_depth=5,\n",
    "                                       min_samples_leaf=2,\n",
    "                                       min_samples_split=3,\n",
    "                                       n_estimators=40,\n",
    "                                       class_weight=\"balanced\")\n",
    "scores = cross_val_score(random_forest, Xs['2720Hz'], Y['Dirp_class'], scoring='accuracy', cv=kfold, n_jobs=-1)\n",
    "print('Accuracy: %.3f (%.3f)' % (np.mean(scores), np.std(scores)))"
   ]
  },
  {
   "cell_type": "code",
   "execution_count": 21,
   "id": "bcd7b319",
   "metadata": {},
   "outputs": [],
   "source": [
    "from sklearn.metrics import plot_confusion_matrix\n",
    "from sklearn.metrics import classification_report"
   ]
  },
  {
   "cell_type": "code",
   "execution_count": 42,
   "id": "e7e43055",
   "metadata": {
    "scrolled": true
   },
   "outputs": [
    {
     "data": {
      "image/png": "[encoded data removed]",
      "text/plain": [
       "<Figure size 576x576 with 2 Axes>"
      ]
     },
     "metadata": {
      "needs_background": "light"
     },
     "output_type": "display_data"
    }
   ],
   "source": [
    "X_train, X_test, y_train, y_test = train_test_split(Xs['2720Hz'], Y['Dirp_class'], test_size=0.3, random_state=108)\n",
    "model = RandomForestClassifier(max_depth=5,\n",
    "                               min_samples_leaf=2,\n",
    "                               min_samples_split=3,\n",
    "                               n_estimators=40,\n",
    "                               class_weight=\"balanced\")\n",
    "model.fit(X_train, y_train)\n",
    "\n",
    "fig, ax = plt.subplots(figsize=(8, 8))\n",
    "plot_confusion_matrix(model, X_test, y_test, ax=ax)\n",
    "plt.show()"
   ]
  },
  {
   "cell_type": "code",
   "execution_count": 43,
   "id": "422f0190",
   "metadata": {},
   "outputs": [
    {
     "name": "stdout",
     "output_type": "stream",
     "text": [
      "              precision    recall  f1-score   support\n",
      "\n",
      "     class 0       0.00      0.00      0.00         3\n",
      "     class 1       0.75      0.98      0.85        63\n",
      "     class 2       0.60      0.20      0.30        15\n",
      "     class 3       0.00      0.00      0.00         7\n",
      "\n",
      "    accuracy                           0.74        88\n",
      "   macro avg       0.34      0.30      0.29        88\n",
      "weighted avg       0.64      0.74      0.66        88\n",
      "\n"
     ]
    }
   ],
   "source": [
    "y_pred = model.predict(X_test)\n",
    "target_names = ['class 0', 'class 1', 'class 2', 'class 3']\n",
    "print(classification_report(y_test, y_pred, target_names=target_names))"
   ]
  },
  {
   "cell_type": "markdown",
   "id": "f4352716",
   "metadata": {},
   "source": [
    "**Experiment with class weights**"
   ]
  },
  {
   "cell_type": "code",
   "execution_count": 86,
   "id": "b22899bb",
   "metadata": {},
   "outputs": [
    {
     "data": {
      "image/png": "[encoded data removed]",
      "text/plain": [
       "<Figure size 576x576 with 2 Axes>"
      ]
     },
     "metadata": {
      "needs_background": "light"
     },
     "output_type": "display_data"
    },
    {
     "name": "stdout",
     "output_type": "stream",
     "text": [
      "              precision    recall  f1-score   support\n",
      "\n",
      "     class 0       0.00      0.00      0.00         3\n",
      "     class 1       0.76      0.98      0.86        63\n",
      "     class 2       0.67      0.27      0.38        15\n",
      "     class 3       0.00      0.00      0.00         7\n",
      "\n",
      "    accuracy                           0.75        88\n",
      "   macro avg       0.36      0.31      0.31        88\n",
      "weighted avg       0.65      0.75      0.68        88\n",
      "\n"
     ]
    }
   ],
   "source": [
    "X_train, X_test, y_train, y_test = train_test_split(Xs['2720Hz'], Y['Dirp_class'], test_size=0.3, random_state=108)\n",
    "model = RandomForestClassifier(max_depth=5,\n",
    "                               min_samples_leaf=2,\n",
    "                               min_samples_split=3,\n",
    "                               n_estimators=40,\n",
    "                               class_weight={0: 3.0, 1: 0.35, 2: 1.7, 3: 4.63})\n",
    "model.fit(X_train, y_train)\n",
    "\n",
    "fig, ax = plt.subplots(figsize=(8, 8))\n",
    "plot_confusion_matrix(model, X_test, y_test, ax=ax)\n",
    "plt.show()\n",
    "\n",
    "y_pred = model.predict(X_test)\n",
    "target_names = ['class 0', 'class 1', 'class 2', 'class 3']\n",
    "print(classification_report(y_test, y_pred, target_names=target_names))"
   ]
  },
  {
   "cell_type": "markdown",
   "id": "f06a6802",
   "metadata": {},
   "source": [
    "**Experiment with resampling**"
   ]
  },
  {
   "cell_type": "code",
   "execution_count": 48,
   "id": "df69ff25",
   "metadata": {},
   "outputs": [],
   "source": [
    "from imblearn.over_sampling import SMOTE"
   ]
  },
  {
   "cell_type": "code",
   "execution_count": 50,
   "id": "f13fcae6",
   "metadata": {},
   "outputs": [],
   "source": [
    "sm = SMOTE(random_state=12)\n",
    "X_train_sm, y_train_sm = sm.fit_resample(X_train, y_train)"
   ]
  },
  {
   "cell_type": "code",
   "execution_count": 58,
   "id": "41cf85fd",
   "metadata": {},
   "outputs": [
    {
     "data": {
      "image/png": "[encoded data removed]",
      "text/plain": [
       "<Figure size 576x432 with 1 Axes>"
      ]
     },
     "metadata": {
      "needs_background": "light"
     },
     "output_type": "display_data"
    }
   ],
   "source": [
    "dirp_classes_dict = Counter(y_train_sm)\n",
    "\n",
    "keys = dirp_classes_dict.keys()\n",
    "values = dirp_classes_dict.values()\n",
    "\n",
    "fig, ax = plt.subplots(figsize=(8, 6))\n",
    "plt.bar(keys, values)\n",
    "plt.title('Wave directions classification SMOTE data')\n",
    "plt.show()"
   ]
  },
  {
   "cell_type": "code",
   "execution_count": 85,
   "id": "f968497e",
   "metadata": {},
   "outputs": [
    {
     "data": {
      "image/png": "[encoded data removed]",
      "text/plain": [
       "<Figure size 576x576 with 2 Axes>"
      ]
     },
     "metadata": {
      "needs_background": "light"
     },
     "output_type": "display_data"
    },
    {
     "name": "stdout",
     "output_type": "stream",
     "text": [
      "              precision    recall  f1-score   support\n",
      "\n",
      "     class 0       0.00      0.00      0.00         3\n",
      "     class 1       0.81      0.79      0.80        63\n",
      "     class 2       0.48      0.67      0.56        15\n",
      "     class 3       0.00      0.00      0.00         7\n",
      "\n",
      "    accuracy                           0.68        88\n",
      "   macro avg       0.32      0.37      0.34        88\n",
      "weighted avg       0.66      0.68      0.67        88\n",
      "\n"
     ]
    }
   ],
   "source": [
    "model = RandomForestClassifier(max_depth=9,\n",
    "                               min_samples_leaf=2,\n",
    "                               min_samples_split=3,\n",
    "                               n_estimators=20)\n",
    "#                                class_weight={0: 3.0, 1: 0.35, 2: 1.7, 3: 4.63})\n",
    "model.fit(X_train_sm, y_train_sm)\n",
    "\n",
    "fig, ax = plt.subplots(figsize=(8, 8))\n",
    "plot_confusion_matrix(model, X_test, y_test, ax=ax)\n",
    "plt.show()\n",
    "\n",
    "y_pred = model.predict(X_test)\n",
    "target_names = ['class 0', 'class 1', 'class 2', 'class 3']\n",
    "print(classification_report(y_test, y_pred, target_names=target_names))"
   ]
  },
  {
   "cell_type": "markdown",
   "id": "adf98e6e",
   "metadata": {},
   "source": [
    "**AdaBoostClassifier Experiment**"
   ]
  },
  {
   "cell_type": "code",
   "execution_count": 73,
   "id": "9bae6580",
   "metadata": {},
   "outputs": [],
   "source": [
    "from sklearn.ensemble import AdaBoostClassifier"
   ]
  },
  {
   "cell_type": "code",
   "execution_count": 79,
   "id": "0d3e6176",
   "metadata": {
    "scrolled": false
   },
   "outputs": [
    {
     "data": {
      "image/png": "[encoded data removed]",
      "text/plain": [
       "<Figure size 576x576 with 2 Axes>"
      ]
     },
     "metadata": {
      "needs_background": "light"
     },
     "output_type": "display_data"
    },
    {
     "name": "stdout",
     "output_type": "stream",
     "text": [
      "              precision    recall  f1-score   support\n",
      "\n",
      "     class 0       0.04      0.33      0.07         3\n",
      "     class 1       0.82      0.44      0.58        63\n",
      "     class 2       0.28      0.33      0.30        15\n",
      "     class 3       0.08      0.14      0.11         7\n",
      "\n",
      "    accuracy                           0.40        88\n",
      "   macro avg       0.31      0.31      0.26        88\n",
      "weighted avg       0.64      0.40      0.48        88\n",
      "\n"
     ]
    }
   ],
   "source": [
    "model = AdaBoostClassifier(n_estimators=100)\n",
    "model.fit(X_train_sm, y_train_sm)\n",
    "\n",
    "fig, ax = plt.subplots(figsize=(8, 8))\n",
    "plot_confusion_matrix(model, X_test, y_test, ax=ax)\n",
    "plt.show()\n",
    "\n",
    "y_pred = model.predict(X_test)\n",
    "target_names = ['class 0', 'class 1', 'class 2', 'class 3']\n",
    "print(classification_report(y_test, y_pred, target_names=target_names))"
   ]
  },
  {
   "cell_type": "markdown",
   "id": "ab35d644",
   "metadata": {},
   "source": [
    "**Different SMOTE**"
   ]
  },
  {
   "cell_type": "code",
   "execution_count": 97,
   "id": "bf25d11c",
   "metadata": {},
   "outputs": [],
   "source": [
    "from imblearn.over_sampling import SMOTENC\n",
    "from imblearn.over_sampling import BorderlineSMOTE"
   ]
  },
  {
   "cell_type": "code",
   "execution_count": 107,
   "id": "5f53cd84",
   "metadata": {},
   "outputs": [],
   "source": [
    "def randomForest(X_train, y_train, X_test, y_test):\n",
    "    model = RandomForestClassifier(max_depth=9,\n",
    "                                   min_samples_leaf=2,\n",
    "                                   min_samples_split=3,\n",
    "                                   n_estimators=20)\n",
    "#                                class_weight={0: 3.0, 1: 0.35, 2: 1.7, 3: 4.63})\n",
    "    model.fit(X_train, y_train)\n",
    "\n",
    "    fig, ax = plt.subplots(figsize=(8, 8))\n",
    "    plot_confusion_matrix(model, X_test, y_test, ax=ax)\n",
    "    plt.show()\n",
    "\n",
    "    y_pred = model.predict(X_test)\n",
    "    target_names = ['class 0', 'class 1', 'class 2', 'class 3']\n",
    "    print(classification_report(y_test, y_pred, target_names=target_names))"
   ]
  },
  {
   "cell_type": "code",
   "execution_count": 108,
   "id": "349c6eef",
   "metadata": {},
   "outputs": [
    {
     "data": {
      "image/png": "[encoded data removed]",
      "text/plain": [
       "<Figure size 576x576 with 2 Axes>"
      ]
     },
     "metadata": {
      "needs_background": "light"
     },
     "output_type": "display_data"
    },
    {
     "name": "stdout",
     "output_type": "stream",
     "text": [
      "              precision    recall  f1-score   support\n",
      "\n",
      "     class 0       0.00      0.00      0.00         3\n",
      "     class 1       0.78      0.90      0.84        63\n",
      "     class 2       0.73      0.53      0.62        15\n",
      "     class 3       0.00      0.00      0.00         7\n",
      "\n",
      "    accuracy                           0.74        88\n",
      "   macro avg       0.38      0.36      0.36        88\n",
      "weighted avg       0.68      0.74      0.70        88\n",
      "\n"
     ]
    }
   ],
   "source": [
    "sm = SMOTE(random_state=12)\n",
    "X_train_sm, y_train_sm = sm.fit_resample(X_train, y_train)\n",
    "randomForest(X_train_sm, y_train_sm, X_test, y_test)"
   ]
  },
  {
   "cell_type": "code",
   "execution_count": 109,
   "id": "055d9cbb",
   "metadata": {
    "scrolled": true
   },
   "outputs": [
    {
     "data": {
      "image/png": "[encoded data removed]",
      "text/plain": [
       "<Figure size 576x576 with 2 Axes>"
      ]
     },
     "metadata": {
      "needs_background": "light"
     },
     "output_type": "display_data"
    },
    {
     "name": "stdout",
     "output_type": "stream",
     "text": [
      "              precision    recall  f1-score   support\n",
      "\n",
      "     class 0       0.00      0.00      0.00         3\n",
      "     class 1       0.74      0.90      0.81        63\n",
      "     class 2       0.56      0.33      0.42        15\n",
      "     class 3       0.00      0.00      0.00         7\n",
      "\n",
      "    accuracy                           0.70        88\n",
      "   macro avg       0.32      0.31      0.31        88\n",
      "weighted avg       0.62      0.70      0.65        88\n",
      "\n"
     ]
    }
   ],
   "source": [
    "smotenc = SMOTENC([1],random_state = 101)\n",
    "X_train_sm, y_train_sm = smotenc.fit_resample(X_train, y_train)\n",
    "randomForest(X_train_sm, y_train_sm, X_test, y_test)"
   ]
  },
  {
   "cell_type": "code",
   "execution_count": 110,
   "id": "5482bb32",
   "metadata": {},
   "outputs": [
    {
     "data": {
      "image/png": "[encoded data removed]",
      "text/plain": [
       "<Figure size 576x576 with 2 Axes>"
      ]
     },
     "metadata": {
      "needs_background": "light"
     },
     "output_type": "display_data"
    },
    {
     "name": "stdout",
     "output_type": "stream",
     "text": [
      "              precision    recall  f1-score   support\n",
      "\n",
      "     class 0       0.00      0.00      0.00         3\n",
      "     class 1       0.76      0.94      0.84        63\n",
      "     class 2       0.75      0.40      0.52        15\n",
      "     class 3       0.00      0.00      0.00         7\n",
      "\n",
      "    accuracy                           0.74        88\n",
      "   macro avg       0.38      0.33      0.34        88\n",
      "weighted avg       0.67      0.74      0.69        88\n",
      "\n"
     ]
    }
   ],
   "source": [
    "smotenc = BorderlineSMOTE(random_state = 101, kind = 'borderline-1')\n",
    "X_train_sm, y_train_sm = smotenc.fit_resample(X_train, y_train)\n",
    "randomForest(X_train_sm, y_train_sm, X_test, y_test)"
   ]
  },
  {
   "cell_type": "markdown",
   "id": "80b6ce95",
   "metadata": {},
   "source": [
    "**compute class weights**"
   ]
  },
  {
   "cell_type": "code",
   "execution_count": 32,
   "id": "3d4209ba",
   "metadata": {},
   "outputs": [],
   "source": [
    "from sklearn.utils.class_weight import compute_class_weight"
   ]
  },
  {
   "cell_type": "code",
   "execution_count": 81,
   "id": "4cb8c928",
   "metadata": {},
   "outputs": [],
   "source": [
    "classes = [0, 1, 2, 3]\n",
    "cw = compute_class_weight('balanced', classes=classes, y=y_train)"
   ]
  },
  {
   "cell_type": "code",
   "execution_count": 82,
   "id": "6230d415",
   "metadata": {},
   "outputs": [
    {
     "name": "stdout",
     "output_type": "stream",
     "text": [
      "[3.         0.34931507 1.7        4.63636364]\n"
     ]
    }
   ],
   "source": [
    "print(cw)"
   ]
  },
  {
   "cell_type": "markdown",
   "id": "2cdf4ab7",
   "metadata": {},
   "source": [
    "## Wave direction Regression "
   ]
  },
  {
   "cell_type": "code",
   "execution_count": 91,
   "id": "a1cdc94b",
   "metadata": {},
   "outputs": [],
   "source": [
    "from imblearn.over_sampling import SMOTENC"
   ]
  },
  {
   "cell_type": "code",
   "execution_count": 93,
   "id": "d6120454",
   "metadata": {},
   "outputs": [
    {
     "name": "stdout",
     "output_type": "stream",
     "text": [
      "Dirp| 1320Hz Hz, 5 folds. RMSE mean: 81.01558582533713, std: 16.416558671855753, mean%:  124.06089856214248, std%:  25.139027254822444\n",
      "Dirp| 1320Hz Hz, 5 folds. RMSPE mean: 43.212621411700816%\n",
      "Dirp| 2020Hz Hz, 5 folds. RMSE mean: 81.81794894088209, std: 11.706452952513184, mean%:  125.28957435425774, std%:  17.926341672024662\n",
      "Dirp| 2020Hz Hz, 5 folds. RMSPE mean: 45.11606124258137%\n",
      "Dirp| 2080Hz Hz, 5 folds. RMSE mean: 82.1703408016668, std: 14.21368869480492, mean%:  125.82919954426978, std%:  21.765725365014685\n",
      "Dirp| 2080Hz Hz, 5 folds. RMSPE mean: 36.86981606578212%\n",
      "Dirp| 2720Hz Hz, 5 folds. RMSE mean: 78.12596037233652, std: 11.476628609425498, mean%:  119.63595333024392, std%:  17.574406742165824\n",
      "Dirp| 2720Hz Hz, 5 folds. RMSPE mean: 41.379122286296%\n"
     ]
    },
    {
     "data": {
      "image/png": "[encoded data removed]",
      "text/plain": [
       "<Figure size 720x576 with 1 Axes>"
      ]
     },
     "metadata": {
      "needs_background": "light"
     },
     "output_type": "display_data"
    }
   ],
   "source": [
    "plt.rcParams.update({'font.size': 7})\n",
    "cm = 1/2.54  # centimeters in inches\n",
    "# [fig, ax] = plt.subplots(2,1, figsize=(19*cm, 19*cm))\n",
    "style_list=['-','--','-.',':'] # list of basic linestyles\n",
    "marker_list=['.','o', '^', '*']\n",
    "\n",
    "def mike_style_plot(model, Xs, Y, target='Dirp', title=\"\", folds=5, _func=None): \n",
    "    # fig = matplotlib.pyplot.gcf()\n",
    "    # fig.set_size_inches(19*cm, 19*cm)\n",
    "    fig = plt.figure(figsize=(10, 8))\n",
    "    if _func is None: _func = lambda x: x\n",
    "    plt.title(title)\n",
    "    arr = {}\n",
    "    for (freq, X), style, marker in zip(Xs.items(),style_list,marker_list  ):\n",
    "        X_train, X_test, y_train, y_test = train_test_split(X, Y[target], test_size=0.1, random_state=108)\n",
    "#         smotenc = SMOTENC([1],random_state = 101)\n",
    "#         X_train_sm, y_train_sm = smotenc.fit_resample(X_train, y_train)\n",
    "        model.fit(X_train, y_train, verbose=True)\n",
    "        y_test_pred = model.predict(X_test)\n",
    "        xx, yy, yy_pred = zip(*(sorted(zip(X_test.index, y_test, y_test_pred) ) ))\n",
    "        plt.plot(xx, _func(yy_pred),  linewidth=2, linestyle = style, marker=marker, label = f'Estimated {freq}')\n",
    "        cv_results = cross_validate(model, X, Y[target], scoring='neg_root_mean_squared_error', cv=folds)\n",
    "        print(f\"{target}| {freq} Hz, {folds} folds. RMSE mean: {-np.mean(cv_results['test_score']) }, std: {np.std(cv_results['test_score'])}, mean%:  {100.*-np.mean(cv_results['test_score']) / Y[target].std()}, std%:  {100.*np.std(cv_results['test_score']) / Y[target].std()}\" ) \n",
    "        print(f\"{target}| {freq} Hz, {folds} folds. RMSPE mean: {rmspe(np.array(yy), np.array(yy_pred) )}%\" ) \n",
    "    \n",
    "    # plot true values curve\n",
    "    plt.plot(xx, _func(yy),  alpha=0.5, linewidth=2, color='black', label = 'Observed values', marker='*')\n",
    "    plt.ylabel('Wave direction')\n",
    "    plt.xlabel('Days')\n",
    "    plt.legend()\n",
    "\n",
    "model = xgb.XGBRegressor(objective='reg:squarederror', n_estimators = 30, max_depth=3)\n",
    "    \n",
    "mike_style_plot(model, Xs, Y, 'Dirp', 'Wave direction regression')\n",
    "\n",
    "\n"
   ]
  },
  {
   "cell_type": "code",
   "execution_count": null,
   "id": "6fe8d42e",
   "metadata": {},
   "outputs": [],
   "source": []
  }
 ],
 "metadata": {
  "kernelspec": {
   "display_name": "Python 3 (ipykernel)",
   "language": "python",
   "name": "python3"
  },
  "language_info": {
   "codemirror_mode": {
    "name": "ipython",
    "version": 3
   },
   "file_extension": ".py",
   "mimetype": "text/x-python",
   "name": "python",
   "nbconvert_exporter": "python",
   "pygments_lexer": "ipython3",
   "version": "3.9.10"
  }
 },
 "nbformat": 4,
 "nbformat_minor": 5
}
